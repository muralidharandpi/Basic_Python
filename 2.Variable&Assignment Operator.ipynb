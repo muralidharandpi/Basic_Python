{
 "cells": [
  {
   "cell_type": "code",
   "execution_count": 1,
   "id": "d165cdcc",
   "metadata": {},
   "outputs": [],
   "source": [
    "num1=51\n",
    "num2=43\n",
    "add=num1+num2"
   ]
  },
  {
   "cell_type": "code",
   "execution_count": 2,
   "id": "ee1dd4b2",
   "metadata": {},
   "outputs": [
    {
     "name": "stdout",
     "output_type": "stream",
     "text": [
      "94\n"
     ]
    }
   ],
   "source": [
    "num1=51\n",
    "num2=43\n",
    "add=num1+num2\n",
    "print(add)"
   ]
  },
  {
   "cell_type": "code",
   "execution_count": 3,
   "id": "37215a68",
   "metadata": {},
   "outputs": [
    {
     "name": "stdout",
     "output_type": "stream",
     "text": [
      "Total Value 94\n"
     ]
    }
   ],
   "source": [
    "print(\"Total Value\",add)"
   ]
  },
  {
   "cell_type": "code",
   "execution_count": 4,
   "id": "91e9e043",
   "metadata": {},
   "outputs": [
    {
     "name": "stdout",
     "output_type": "stream",
     "text": [
      "Total Value of Add is : 40\n",
      "Substracted Value is : -6\n",
      "Multiplied Value is : 391\n"
     ]
    }
   ],
   "source": [
    "Number1=17\n",
    "Number2=23\n",
    "Add=Number1+Number2\n",
    "Mult=Number1*Number2\n",
    "Subs=Number1-Number2\n",
    "print( \"Total Value of Add is :\" ,Add )\n",
    "print( \"Substracted Value is :\" ,Subs )\n",
    "print( \"Multiplied Value is :\" ,Mult )"
   ]
  },
  {
   "cell_type": "code",
   "execution_count": 5,
   "id": "64303087",
   "metadata": {},
   "outputs": [],
   "source": [
    "First_Name=\"Ramisha Rani\""
   ]
  },
  {
   "cell_type": "code",
   "execution_count": 7,
   "id": "90f1734e",
   "metadata": {},
   "outputs": [],
   "source": [
    "FisrtName01=\" Ramishsa\""
   ]
  },
  {
   "cell_type": "code",
   "execution_count": 8,
   "id": "083ab812",
   "metadata": {},
   "outputs": [],
   "source": [
    "LastName01=\"Rani\""
   ]
  },
  {
   "cell_type": "code",
   "execution_count": 9,
   "id": "b73e747b",
   "metadata": {},
   "outputs": [
    {
     "name": "stdout",
     "output_type": "stream",
     "text": [
      "The Addition of Two Numbers\n",
      "The Number 1 is :  27\n",
      "The Number 2 is :  93\n",
      "The Answer is :  120\n"
     ]
    }
   ],
   "source": [
    "print(\"The Addition of Two Numbers\")\n",
    "Num1=27\n",
    "print(\"The Number 1 is : \" , Num1)\n",
    "Num2=93\n",
    "print(\"The Number 2 is : \" , Num2)\n",
    "Add=Num1+Num2\n",
    "print(\"The Answer is : \" , Add)"
   ]
  },
  {
   "cell_type": "code",
   "execution_count": 17,
   "id": "2a80e241",
   "metadata": {},
   "outputs": [
    {
     "name": "stdout",
     "output_type": "stream",
     "text": [
      "Enter the Number 1 Value :15\n"
     ]
    }
   ],
   "source": [
    "num1=int(input(\"Enter the Number 1 Value :\"))\n"
   ]
  },
  {
   "cell_type": "code",
   "execution_count": 18,
   "id": "25495a77",
   "metadata": {},
   "outputs": [
    {
     "name": "stdout",
     "output_type": "stream",
     "text": [
      "Enter the Number 2 Value :11\n"
     ]
    }
   ],
   "source": [
    "num2=int(input(\"Enter the Number 2 Value :\"))\n"
   ]
  },
  {
   "cell_type": "code",
   "execution_count": 19,
   "id": "e163c569",
   "metadata": {},
   "outputs": [
    {
     "name": "stdout",
     "output_type": "stream",
     "text": [
      "Addition of 2 Number is : 26\n"
     ]
    }
   ],
   "source": [
    "add=num1+num2\n",
    "print(\"Addition of 2 Number is :\",add)"
   ]
  },
  {
   "cell_type": "code",
   "execution_count": null,
   "id": "fd2c3073",
   "metadata": {},
   "outputs": [],
   "source": []
  }
 ],
 "metadata": {
  "kernelspec": {
   "display_name": "Python 3 (ipykernel)",
   "language": "python",
   "name": "python3"
  },
  "language_info": {
   "codemirror_mode": {
    "name": "ipython",
    "version": 3
   },
   "file_extension": ".py",
   "mimetype": "text/x-python",
   "name": "python",
   "nbconvert_exporter": "python",
   "pygments_lexer": "ipython3",
   "version": "3.11.4"
  }
 },
 "nbformat": 4,
 "nbformat_minor": 5
}

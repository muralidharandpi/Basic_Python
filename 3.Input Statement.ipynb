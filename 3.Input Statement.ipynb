{
 "cells": [
  {
   "cell_type": "code",
   "execution_count": 1,
   "id": "cba71fd8",
   "metadata": {},
   "outputs": [
    {
     "name": "stdout",
     "output_type": "stream",
     "text": [
      "Enter the Number 1 Value :25\n"
     ]
    }
   ],
   "source": [
    "num1=int(input(\"Enter the Number 1 Value :\"))"
   ]
  },
  {
   "cell_type": "code",
   "execution_count": 6,
   "id": "afb36b07",
   "metadata": {},
   "outputs": [
    {
     "name": "stdout",
     "output_type": "stream",
     "text": [
      "Enter the Number 2 Value :55\n"
     ]
    }
   ],
   "source": [
    "num2=int(input(\"Enter the Number 2 Value :\"))"
   ]
  },
  {
   "cell_type": "code",
   "execution_count": 7,
   "id": "6054dd84",
   "metadata": {},
   "outputs": [
    {
     "name": "stdout",
     "output_type": "stream",
     "text": [
      "Addtional Value of 2 Numbers :  122\n"
     ]
    }
   ],
   "source": [
    "Add=num1+num2\n",
    "print(\"Addtional Value of 2 Numbers : \",Add)"
   ]
  },
  {
   "cell_type": "code",
   "execution_count": null,
   "id": "a1ad0e1a",
   "metadata": {},
   "outputs": [],
   "source": []
  }
 ],
 "metadata": {
  "kernelspec": {
   "display_name": "Python 3 (ipykernel)",
   "language": "python",
   "name": "python3"
  },
  "language_info": {
   "codemirror_mode": {
    "name": "ipython",
    "version": 3
   },
   "file_extension": ".py",
   "mimetype": "text/x-python",
   "name": "python",
   "nbconvert_exporter": "python",
   "pygments_lexer": "ipython3",
   "version": "3.11.4"
  }
 },
 "nbformat": 4,
 "nbformat_minor": 5
}

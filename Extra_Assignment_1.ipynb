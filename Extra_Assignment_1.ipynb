{
 "cells": [
  {
   "cell_type": "code",
   "execution_count": 1,
   "id": "14fac63a",
   "metadata": {},
   "outputs": [
    {
     "name": "stdout",
     "output_type": "stream",
     "text": [
      "Hope AI\n"
     ]
    }
   ],
   "source": [
    "print(\"Hope AI\")"
   ]
  },
  {
   "cell_type": "code",
   "execution_count": 3,
   "id": "b42b28d1",
   "metadata": {},
   "outputs": [
    {
     "name": "stdout",
     "output_type": "stream",
     "text": [
      "Enter Your Institute Name? = Hope AI\n"
     ]
    }
   ],
   "source": [
    "Name=input(\"Enter Your Institute Name? = \")\n"
   ]
  },
  {
   "cell_type": "code",
   "execution_count": 4,
   "id": "b38cdb04",
   "metadata": {},
   "outputs": [
    {
     "name": "stdout",
     "output_type": "stream",
     "text": [
      "Enter your Name : Raj\n",
      "Enter your Age : 15\n",
      "Enter your School Name : Guru School\n",
      "Enter your Degree : B.E CSE\n"
     ]
    }
   ],
   "source": [
    "Name=input(\"Enter your Name : \")\n",
    "Age=int(input(\"Enter your Age : \"))\n",
    "School_Name=input(\"Enter your School Name : \")\n",
    "Degree=input(\"Enter your Degree : \")"
   ]
  },
  {
   "cell_type": "code",
   "execution_count": 5,
   "id": "01b6449f",
   "metadata": {},
   "outputs": [
    {
     "name": "stdout",
     "output_type": "stream",
     "text": [
      "a = 43\n",
      "b = 34\n",
      "Add = 77\n"
     ]
    }
   ],
   "source": [
    "a=43\n",
    "print(\"a =\" ,a)\n",
    "b=34\n",
    "print(\"b =\" ,b)\n",
    "add=a+b\n",
    "print(\"Add =\" ,add)"
   ]
  },
  {
   "cell_type": "code",
   "execution_count": 6,
   "id": "53eac527",
   "metadata": {},
   "outputs": [
    {
     "name": "stdout",
     "output_type": "stream",
     "text": [
      "a = 43\n",
      "b = 34\n",
      "Sub = 9\n"
     ]
    }
   ],
   "source": [
    "a=43\n",
    "print(\"a =\" ,a)\n",
    "b=34\n",
    "print(\"b =\" ,b)\n",
    "sub=a-b\n",
    "print(\"Sub =\" ,sub)"
   ]
  },
  {
   "cell_type": "code",
   "execution_count": 7,
   "id": "7c2877ed",
   "metadata": {},
   "outputs": [
    {
     "name": "stdout",
     "output_type": "stream",
     "text": [
      "a = 63\n",
      "b = 97\n",
      "Mul = 6111\n"
     ]
    }
   ],
   "source": [
    "a=63\n",
    "print(\"a =\" ,a)\n",
    "b=97\n",
    "print(\"b =\" ,b)\n",
    "mul=a*b\n",
    "print(\"Mul =\" ,mul)"
   ]
  },
  {
   "cell_type": "code",
   "execution_count": 8,
   "id": "3485812a",
   "metadata": {},
   "outputs": [
    {
     "name": "stdout",
     "output_type": "stream",
     "text": [
      "a = 76\n",
      "b = 31\n",
      "Float Division = 2.4516129032258065\n"
     ]
    }
   ],
   "source": [
    "a=76\n",
    "print(\"a =\" ,a)\n",
    "b=31\n",
    "print(\"b =\" ,b)\n",
    "float=a/b\n",
    "print(\"Float Division =\" ,float)"
   ]
  },
  {
   "cell_type": "code",
   "execution_count": 10,
   "id": "f7a051d7",
   "metadata": {},
   "outputs": [
    {
     "name": "stdout",
     "output_type": "stream",
     "text": [
      "a = 76\n",
      "b = 31\n",
      "Floor Division = 2\n"
     ]
    }
   ],
   "source": [
    "a=76\n",
    "print(\"a =\" ,a)\n",
    "b=31\n",
    "print(\"b =\" ,b)\n",
    "div=a//b\n",
    "print(\"Floor Division =\" ,div)"
   ]
  },
  {
   "cell_type": "code",
   "execution_count": 11,
   "id": "6002f1c7",
   "metadata": {},
   "outputs": [
    {
     "name": "stdout",
     "output_type": "stream",
     "text": [
      "a = 76\n",
      "b = 31\n",
      "Modulo = 14\n"
     ]
    }
   ],
   "source": [
    "a=76\n",
    "print(\"a =\" ,a)\n",
    "b=31\n",
    "print(\"b =\" ,b)\n",
    "mod=a%b\n",
    "print(\"Modulo =\" ,mod)"
   ]
  },
  {
   "cell_type": "code",
   "execution_count": 12,
   "id": "ef961ac1",
   "metadata": {},
   "outputs": [
    {
     "name": "stdout",
     "output_type": "stream",
     "text": [
      "a = 4\n",
      "b = 4\n",
      "Power = 256\n"
     ]
    }
   ],
   "source": [
    "a=4\n",
    "print(\"a =\" ,a)\n",
    "b=4\n",
    "print(\"b =\" ,b)\n",
    "power=a**b\n",
    "print(\"Power =\" ,power)"
   ]
  },
  {
   "cell_type": "code",
   "execution_count": null,
   "id": "b93438df",
   "metadata": {},
   "outputs": [],
   "source": []
  }
 ],
 "metadata": {
  "kernelspec": {
   "display_name": "Python 3 (ipykernel)",
   "language": "python",
   "name": "python3"
  },
  "language_info": {
   "codemirror_mode": {
    "name": "ipython",
    "version": 3
   },
   "file_extension": ".py",
   "mimetype": "text/x-python",
   "name": "python",
   "nbconvert_exporter": "python",
   "pygments_lexer": "ipython3",
   "version": "3.11.4"
  }
 },
 "nbformat": 4,
 "nbformat_minor": 5
}
